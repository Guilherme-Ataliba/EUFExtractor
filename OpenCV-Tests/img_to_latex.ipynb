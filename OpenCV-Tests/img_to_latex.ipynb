{
 "cells": [
  {
   "cell_type": "code",
   "execution_count": 1,
   "metadata": {},
   "outputs": [
    {
     "name": "stderr",
     "output_type": "stream",
     "text": [
      "e:\\Documents\\Coding\\Repositorios\\MyRepositories\\EUF_PDF_editor\\.venv\\Lib\\site-packages\\tqdm\\auto.py:21: TqdmWarning: IProgress not found. Please update jupyter and ipywidgets. See https://ipywidgets.readthedocs.io/en/stable/user_install.html\n",
      "  from .autonotebook import tqdm as notebook_tqdm\n",
      "e:\\Documents\\Coding\\Repositorios\\MyRepositories\\EUF_PDF_editor\\.venv\\Lib\\site-packages\\albumentations\\__init__.py:24: UserWarning: A new version of Albumentations is available: 2.0.5 (you have 1.4.24). Upgrade using: pip install -U albumentations. To disable automatic update checks, set the environment variable NO_ALBUMENTATIONS_UPDATE to 1.\n",
      "  check_for_updates()\n",
      "e:\\Documents\\Coding\\Repositorios\\MyRepositories\\EUF_PDF_editor\\.venv\\Lib\\site-packages\\pydantic\\_internal\\_serializers.py:44: UserWarning: Pydantic serializer warnings:\n",
      "  PydanticSerializationUnexpectedValue(Expected `dict[str, any]` - serialized value may not be as expected [input_value=UniformParams(noise_type=... 0.058823529411764705)]), input_type=UniformParams])\n",
      "  v = handler(item, index)\n",
      "e:\\Documents\\Coding\\Repositorios\\MyRepositories\\EUF_PDF_editor\\.venv\\Lib\\site-packages\\pydantic\\main.py:453: UserWarning: Pydantic serializer warnings:\n",
      "  PydanticSerializationUnexpectedValue(Expected `dict[str, any]` - serialized value may not be as expected [input_value=UniformParams(noise_type=... 0.058823529411764705)]), input_type=UniformParams])\n",
      "  return self.__pydantic_serializer__.to_python(\n"
     ]
    }
   ],
   "source": [
    "from PIL import Image\n",
    "from pix2tex.cli import LatexOCR"
   ]
  },
  {
   "cell_type": "code",
   "execution_count": 57,
   "metadata": {},
   "outputs": [
    {
     "data": {
      "text/plain": [
       "array([[ 938, 1630, 1631, 2637],\n",
       "       [ 388,  388,  388,  388]])"
      ]
     },
     "metadata": {},
     "output_type": "display_data"
    },
    {
     "data": {
      "text/plain": [
       "array([[ 938, 1630, 2637],\n",
       "       [ 388,  388,  388]])"
      ]
     },
     "execution_count": 57,
     "metadata": {},
     "output_type": "execute_result"
    }
   ],
   "source": [
    "import numpy as np\n",
    "\n",
    "arr = np.array((np.array([ 938, 1630, 1631, 2637]), np.array([388, 388, 388, 388])))\n",
    "display(arr)\n",
    "\n",
    "height = 10\n",
    "\n",
    "new_arr = [arr[0][0]]\n",
    "for x in arr[0][1:]:\n",
    "    if (x - new_arr[-1]) > height:\n",
    "        new_arr.append(x)\n",
    "new_arr\n",
    "\n",
    "diffs = np.diff(arr[0])\n",
    "indices = np.where(diffs > 10)[0]\n",
    "selected_indices = np.concatenate(([0], indices+1))\n",
    "new_arr = arr[:, selected_indices]\n",
    "new_arr\n"
   ]
  },
  {
   "cell_type": "code",
   "execution_count": 3,
   "metadata": {},
   "outputs": [
    {
     "data": {
      "text/plain": [
       "True"
      ]
     },
     "execution_count": 3,
     "metadata": {},
     "output_type": "execute_result"
    }
   ],
   "source": [
    "import cv2\n",
    "import numpy as np\n",
    "from PIL import Image\n",
    "\n",
    "# Load the image\n",
    "image = cv2.imread(\"file-0.jpg\", cv2.IMREAD_GRAYSCALE)\n",
    "\n",
    "# Apply adaptive thresholding for better text recognition\n",
    "processed_image = cv2.adaptiveThreshold(image, 255, cv2.ADAPTIVE_THRESH_GAUSSIAN_C, cv2.THRESH_BINARY, 11, 2)\n",
    "\n",
    "# Save the processed image\n",
    "cv2.imwrite(\"output/processed_image.jpg\", processed_image)\n"
   ]
  },
  {
   "cell_type": "code",
   "execution_count": 6,
   "metadata": {},
   "outputs": [
    {
     "name": "stdout",
     "output_type": "stream",
     "text": [
      "\\mathcal{O}_{0}\\stackrel{\\rightarrow}{\\longrightarrow}\\sqrt{\\frac{(1/k_{1})+k_{2}+k_{3}}{m}}\n"
     ]
    }
   ],
   "source": [
    "img = Image.open(\"file-1.jpg\")\n",
    "model = LatexOCR()\n",
    "latex_code = model(img)\n",
    "print(latex_code)"
   ]
  }
 ],
 "metadata": {
  "kernelspec": {
   "display_name": ".venv",
   "language": "python",
   "name": "python3"
  },
  "language_info": {
   "codemirror_mode": {
    "name": "ipython",
    "version": 3
   },
   "file_extension": ".py",
   "mimetype": "text/x-python",
   "name": "python",
   "nbconvert_exporter": "python",
   "pygments_lexer": "ipython3",
   "version": "3.12.5"
  }
 },
 "nbformat": 4,
 "nbformat_minor": 2
}
