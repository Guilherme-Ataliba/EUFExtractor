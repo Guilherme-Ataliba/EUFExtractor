{
 "cells": [
  {
   "cell_type": "code",
   "execution_count": 4,
   "metadata": {},
   "outputs": [
    {
     "name": "stderr",
     "output_type": "stream",
     "text": [
      "e:\\Documents\\Coding\\Repositorios\\MyRepositories\\EUF_PDF_editor\\.venv\\Lib\\site-packages\\albumentations\\__init__.py:24: UserWarning: A new version of Albumentations is available: 2.0.5 (you have 1.4.24). Upgrade using: pip install -U albumentations. To disable automatic update checks, set the environment variable NO_ALBUMENTATIONS_UPDATE to 1.\n",
      "  check_for_updates()\n",
      "e:\\Documents\\Coding\\Repositorios\\MyRepositories\\EUF_PDF_editor\\.venv\\Lib\\site-packages\\pydantic\\_internal\\_serializers.py:44: UserWarning: Pydantic serializer warnings:\n",
      "  PydanticSerializationUnexpectedValue(Expected `dict[str, any]` - serialized value may not be as expected [input_value=UniformParams(noise_type=... 0.058823529411764705)]), input_type=UniformParams])\n",
      "  v = handler(item, index)\n",
      "e:\\Documents\\Coding\\Repositorios\\MyRepositories\\EUF_PDF_editor\\.venv\\Lib\\site-packages\\pydantic\\main.py:453: UserWarning: Pydantic serializer warnings:\n",
      "  PydanticSerializationUnexpectedValue(Expected `dict[str, any]` - serialized value may not be as expected [input_value=UniformParams(noise_type=... 0.058823529411764705)]), input_type=UniformParams])\n",
      "  return self.__pydantic_serializer__.to_python(\n"
     ]
    }
   ],
   "source": [
    "from PIL import Image\n",
    "from pix2tex.cli import LatexOCR\n",
    "import cv2"
   ]
  },
  {
   "cell_type": "code",
   "execution_count": 57,
   "metadata": {},
   "outputs": [
    {
     "data": {
      "text/plain": [
       "array([[ 938, 1630, 1631, 2637],\n",
       "       [ 388,  388,  388,  388]])"
      ]
     },
     "metadata": {},
     "output_type": "display_data"
    },
    {
     "data": {
      "text/plain": [
       "array([[ 938, 1630, 2637],\n",
       "       [ 388,  388,  388]])"
      ]
     },
     "execution_count": 57,
     "metadata": {},
     "output_type": "execute_result"
    }
   ],
   "source": [
    "import numpy as np\n",
    "\n",
    "arr = np.array((np.array([ 938, 1630, 1631, 2637]), np.array([388, 388, 388, 388])))\n",
    "display(arr)\n",
    "\n",
    "height = 10\n",
    "\n",
    "new_arr = [arr[0][0]]\n",
    "for x in arr[0][1:]:\n",
    "    if (x - new_arr[-1]) > height:\n",
    "        new_arr.append(x)\n",
    "new_arr\n",
    "\n",
    "diffs = np.diff(arr[0])\n",
    "indices = np.where(diffs > 10)[0]\n",
    "selected_indices = np.concatenate(([0], indices+1))\n",
    "new_arr = arr[:, selected_indices]\n",
    "new_arr\n"
   ]
  },
  {
   "cell_type": "code",
   "execution_count": 9,
   "metadata": {},
   "outputs": [
    {
     "data": {
      "text/plain": [
       "True"
      ]
     },
     "execution_count": 9,
     "metadata": {},
     "output_type": "execute_result"
    }
   ],
   "source": [
    "import cv2\n",
    "import numpy as np\n",
    "from PIL import Image\n",
    "\n",
    "# Load the image\n",
    "image = cv2.imread(\"file-0.jpg\", cv2.IMREAD_GRAYSCALE)\n",
    "\n",
    "# Apply adaptive thresholding for better text recognition\n",
    "# processed_image = cv2.adaptiveThreshold(image, 255, cv2.ADAPTIVE_THRESH_GAUSSIAN_C, cv2.THRESH_BINARY, 11, 2)\n",
    "upscaled = cv2.resize(image, None, fx=2, fy=2, interpolation=cv2.INTER_CUBIC)  # or INTER_LANCZOS4\n",
    "\n",
    "# Save the processed image\n",
    "cv2.imwrite(\"output/processed_image.jpg\", upscaled)\n"
   ]
  },
  {
   "cell_type": "code",
   "execution_count": 7,
   "metadata": {},
   "outputs": [
    {
     "name": "stdout",
     "output_type": "stream",
     "text": [
      "\\mathcal{A}_{\\mathrm{O}}\\underline{{{k}}}_{1}\\underline{{{+k_{2}+k_{3}}}}\n"
     ]
    }
   ],
   "source": [
    "from PIL import Image, ImageOps, ImageFilter\n",
    "# from latexocr import LatexOCR  # or however you import your OCR model\n",
    "\n",
    "# Open the image\n",
    "img = Image.open(\"output/processed_image.jpg\")\n",
    "\n",
    "# --- Preprocessing steps ---\n",
    "# Convert to grayscale (L mode)\n",
    "img = img.convert(\"L\")\n",
    "\n",
    "# Enhance contrast to make text stand out\n",
    "img = ImageOps.autocontrast(img)\n",
    "\n",
    "# Optionally, sharpen the image to enhance edges\n",
    "img = img.filter(ImageFilter.SHARPEN)\n",
    "\n",
    "# (Optional) Resize the image if the OCR model prefers a fixed resolution\n",
    "# For example, if you want a width of 800 pixels while preserving aspect ratio:\n",
    "base_width = 200\n",
    "wpercent = (base_width / float(img.size[0]))\n",
    "new_height = int((float(img.size[1]) * float(wpercent)))\n",
    "img = img.resize((base_width, new_height), Image.LANCZOS)\n",
    "\n",
    "# --- OCR processing ---\n",
    "model = LatexOCR()\n",
    "\n",
    "# (Optional) Adjust model parameters if supported.\n",
    "# For example, if the model supports a 'temperature' parameter to control decoding randomness:\n",
    "# model.temperature = 0.1\n",
    "\n",
    "# Generate LaTeX code from the preprocessed image\n",
    "latex_code = model(img)\n",
    "print(latex_code)\n"
   ]
  },
  {
   "cell_type": "code",
   "execution_count": 1,
   "metadata": {},
   "outputs": [
    {
     "name": "stderr",
     "output_type": "stream",
     "text": [
      "e:\\Documents\\Coding\\Repositorios\\MyRepositories\\EUF_PDF_editor\\.venv\\Lib\\site-packages\\tqdm\\auto.py:21: TqdmWarning: IProgress not found. Please update jupyter and ipywidgets. See https://ipywidgets.readthedocs.io/en/stable/user_install.html\n",
      "  from .autonotebook import tqdm as notebook_tqdm\n",
      "file eugenesiow/edsr-base@main/config.json not found\n"
     ]
    },
    {
     "ename": "OSError",
     "evalue": "Can't load config for 'eugenesiow/edsr-base'. Make sure that:\n\n- 'eugenesiow/edsr-base' is a correct model identifier \n\n- or 'eugenesiow/edsr-base' is the correct path to a directory containing a config.json file\n\n",
     "output_type": "error",
     "traceback": [
      "\u001b[31m---------------------------------------------------------------------------\u001b[39m",
      "\u001b[31mOSError\u001b[39m                                   Traceback (most recent call last)",
      "\u001b[36mFile \u001b[39m\u001b[32me:\\Documents\\Coding\\Repositorios\\MyRepositories\\EUF_PDF_editor\\.venv\\Lib\\site-packages\\super_image\\configuration_utils.py:92\u001b[39m, in \u001b[36mPretrainedConfig.get_config_dict\u001b[39m\u001b[34m(cls, pretrained_model_name_or_path, **kwargs)\u001b[39m\n\u001b[32m     90\u001b[39m \u001b[38;5;28;01mtry\u001b[39;00m:\n\u001b[32m     91\u001b[39m     \u001b[38;5;66;03m# Load from URL or cache if already cached\u001b[39;00m\n\u001b[32m---> \u001b[39m\u001b[32m92\u001b[39m     resolved_config_file = \u001b[43mget_model_path\u001b[49m\u001b[43m(\u001b[49m\n\u001b[32m     93\u001b[39m \u001b[43m        \u001b[49m\u001b[43mconfig_file\u001b[49m\u001b[43m,\u001b[49m\n\u001b[32m     94\u001b[39m \u001b[43m        \u001b[49m\u001b[43mcache_dir\u001b[49m\u001b[43m=\u001b[49m\u001b[43mcache_dir\u001b[49m\n\u001b[32m     95\u001b[39m \u001b[43m    \u001b[49m\u001b[43m)\u001b[49m\n\u001b[32m     96\u001b[39m     \u001b[38;5;66;03m# Load config dict\u001b[39;00m\n",
      "\u001b[36mFile \u001b[39m\u001b[32me:\\Documents\\Coding\\Repositorios\\MyRepositories\\EUF_PDF_editor\\.venv\\Lib\\site-packages\\super_image\\file_utils.py:85\u001b[39m, in \u001b[36mget_model_path\u001b[39m\u001b[34m(url_or_filename, cache_dir)\u001b[39m\n\u001b[32m     83\u001b[39m \u001b[38;5;28;01melif\u001b[39;00m urlparse(url_or_filename).scheme == \u001b[33m\"\u001b[39m\u001b[33m\"\u001b[39m:\n\u001b[32m     84\u001b[39m     \u001b[38;5;66;03m# File, but it doesn't exist.\u001b[39;00m\n\u001b[32m---> \u001b[39m\u001b[32m85\u001b[39m     \u001b[38;5;28;01mraise\u001b[39;00m \u001b[38;5;167;01mEnvironmentError\u001b[39;00m(\u001b[33mf\u001b[39m\u001b[33m\"\u001b[39m\u001b[33mfile \u001b[39m\u001b[38;5;132;01m{\u001b[39;00murl_or_filename\u001b[38;5;132;01m}\u001b[39;00m\u001b[33m not found\u001b[39m\u001b[33m\"\u001b[39m)\n\u001b[32m     86\u001b[39m \u001b[38;5;28;01melse\u001b[39;00m:\n\u001b[32m     87\u001b[39m     \u001b[38;5;66;03m# Something unknown\u001b[39;00m\n",
      "\u001b[31mOSError\u001b[39m: file eugenesiow/edsr-base@main/config.json not found",
      "\nDuring handling of the above exception, another exception occurred:\n",
      "\u001b[31mOSError\u001b[39m                                   Traceback (most recent call last)",
      "\u001b[36mCell\u001b[39m\u001b[36m \u001b[39m\u001b[32mIn[1]\u001b[39m\u001b[32m, line 4\u001b[39m\n\u001b[32m      1\u001b[39m \u001b[38;5;28;01mfrom\u001b[39;00m\u001b[38;5;250m \u001b[39m\u001b[34;01mPIL\u001b[39;00m\u001b[38;5;250m \u001b[39m\u001b[38;5;28;01mimport\u001b[39;00m Image\n\u001b[32m      2\u001b[39m \u001b[38;5;28;01mfrom\u001b[39;00m\u001b[38;5;250m \u001b[39m\u001b[34;01msuper_image\u001b[39;00m\u001b[38;5;250m \u001b[39m\u001b[38;5;28;01mimport\u001b[39;00m EdsrModel, ImageLoader\n\u001b[32m----> \u001b[39m\u001b[32m4\u001b[39m model = \u001b[43mEdsrModel\u001b[49m\u001b[43m.\u001b[49m\u001b[43mfrom_pretrained\u001b[49m\u001b[43m(\u001b[49m\u001b[33;43m'\u001b[39;49m\u001b[33;43meugenesiow/edsr-base\u001b[39;49m\u001b[33;43m'\u001b[39;49m\u001b[43m,\u001b[49m\u001b[43m \u001b[49m\u001b[43mscale\u001b[49m\u001b[43m=\u001b[49m\u001b[32;43m2\u001b[39;49m\u001b[43m)\u001b[49m\n\u001b[32m      5\u001b[39m img = Image.open(\u001b[33m'\u001b[39m\u001b[33mfile-0.jpg\u001b[39m\u001b[33m'\u001b[39m)\n\u001b[32m      6\u001b[39m sr_img = model.predict(img)\n",
      "\u001b[36mFile \u001b[39m\u001b[32me:\\Documents\\Coding\\Repositorios\\MyRepositories\\EUF_PDF_editor\\.venv\\Lib\\site-packages\\super_image\\modeling_utils.py:183\u001b[39m, in \u001b[36mPreTrainedModel.from_pretrained\u001b[39m\u001b[34m(cls, pretrained_model_name_or_path, *model_args, **kwargs)\u001b[39m\n\u001b[32m    181\u001b[39m \u001b[38;5;28;01mif\u001b[39;00m \u001b[38;5;129;01mnot\u001b[39;00m \u001b[38;5;28misinstance\u001b[39m(config, PretrainedConfig):\n\u001b[32m    182\u001b[39m     config_path = config \u001b[38;5;28;01mif\u001b[39;00m config \u001b[38;5;129;01mis\u001b[39;00m \u001b[38;5;129;01mnot\u001b[39;00m \u001b[38;5;28;01mNone\u001b[39;00m \u001b[38;5;28;01melse\u001b[39;00m pretrained_model_name_or_path\n\u001b[32m--> \u001b[39m\u001b[32m183\u001b[39m     config, model_kwargs = \u001b[38;5;28;43mcls\u001b[39;49m\u001b[43m.\u001b[49m\u001b[43mconfig_class\u001b[49m\u001b[43m.\u001b[49m\u001b[43mfrom_pretrained\u001b[49m\u001b[43m(\u001b[49m\n\u001b[32m    184\u001b[39m \u001b[43m        \u001b[49m\u001b[43mconfig_path\u001b[49m\u001b[43m,\u001b[49m\n\u001b[32m    185\u001b[39m \u001b[43m        \u001b[49m\u001b[43m*\u001b[49m\u001b[43mmodel_args\u001b[49m\u001b[43m,\u001b[49m\n\u001b[32m    186\u001b[39m \u001b[43m        \u001b[49m\u001b[43mcache_dir\u001b[49m\u001b[43m=\u001b[49m\u001b[43mcache_dir\u001b[49m\u001b[43m,\u001b[49m\n\u001b[32m    187\u001b[39m \u001b[43m        \u001b[49m\u001b[43m*\u001b[49m\u001b[43m*\u001b[49m\u001b[43mkwargs\u001b[49m\u001b[43m,\u001b[49m\n\u001b[32m    188\u001b[39m \u001b[43m    \u001b[49m\u001b[43m)\u001b[49m\n\u001b[32m    189\u001b[39m \u001b[38;5;28;01melse\u001b[39;00m:\n\u001b[32m    190\u001b[39m     model_kwargs = kwargs\n",
      "\u001b[36mFile \u001b[39m\u001b[32me:\\Documents\\Coding\\Repositorios\\MyRepositories\\EUF_PDF_editor\\.venv\\Lib\\site-packages\\super_image\\configuration_utils.py:36\u001b[39m, in \u001b[36mPretrainedConfig.from_pretrained\u001b[39m\u001b[34m(cls, pretrained_model_name_or_path, **kwargs)\u001b[39m\n\u001b[32m     34\u001b[39m \u001b[38;5;129m@classmethod\u001b[39m\n\u001b[32m     35\u001b[39m \u001b[38;5;28;01mdef\u001b[39;00m\u001b[38;5;250m \u001b[39m\u001b[34mfrom_pretrained\u001b[39m(\u001b[38;5;28mcls\u001b[39m, pretrained_model_name_or_path: Union[\u001b[38;5;28mstr\u001b[39m, os.PathLike], **kwargs) -> \u001b[33m\"\u001b[39m\u001b[33mPretrainedConfig\u001b[39m\u001b[33m\"\u001b[39m:\n\u001b[32m---> \u001b[39m\u001b[32m36\u001b[39m     config_dict, kwargs = \u001b[38;5;28;43mcls\u001b[39;49m\u001b[43m.\u001b[49m\u001b[43mget_config_dict\u001b[49m\u001b[43m(\u001b[49m\u001b[43mpretrained_model_name_or_path\u001b[49m\u001b[43m,\u001b[49m\u001b[43m \u001b[49m\u001b[43m*\u001b[49m\u001b[43m*\u001b[49m\u001b[43mkwargs\u001b[49m\u001b[43m)\u001b[49m\n\u001b[32m     37\u001b[39m     \u001b[38;5;28;01mif\u001b[39;00m \u001b[33m\"\u001b[39m\u001b[33mmodel_type\u001b[39m\u001b[33m\"\u001b[39m \u001b[38;5;129;01min\u001b[39;00m config_dict \u001b[38;5;129;01mand\u001b[39;00m \u001b[38;5;28mhasattr\u001b[39m(\u001b[38;5;28mcls\u001b[39m, \u001b[33m\"\u001b[39m\u001b[33mmodel_type\u001b[39m\u001b[33m\"\u001b[39m) \u001b[38;5;129;01mand\u001b[39;00m config_dict[\u001b[33m\"\u001b[39m\u001b[33mmodel_type\u001b[39m\u001b[33m\"\u001b[39m] != \u001b[38;5;28mcls\u001b[39m.model_type:\n\u001b[32m     38\u001b[39m         logger.warning(\n\u001b[32m     39\u001b[39m             \u001b[33mf\u001b[39m\u001b[33m\"\u001b[39m\u001b[33mYou are using a model of type \u001b[39m\u001b[38;5;132;01m{\u001b[39;00mconfig_dict[\u001b[33m'\u001b[39m\u001b[33mmodel_type\u001b[39m\u001b[33m'\u001b[39m]\u001b[38;5;132;01m}\u001b[39;00m\u001b[33m to instantiate a model of type \u001b[39m\u001b[33m\"\u001b[39m\n\u001b[32m     40\u001b[39m             \u001b[33mf\u001b[39m\u001b[33m\"\u001b[39m\u001b[38;5;132;01m{\u001b[39;00m\u001b[38;5;28mcls\u001b[39m.model_type\u001b[38;5;132;01m}\u001b[39;00m\u001b[33m. This is not supported for all configurations of models and can yield errors.\u001b[39m\u001b[33m\"\u001b[39m\n\u001b[32m     41\u001b[39m         )\n",
      "\u001b[36mFile \u001b[39m\u001b[32me:\\Documents\\Coding\\Repositorios\\MyRepositories\\EUF_PDF_editor\\.venv\\Lib\\site-packages\\super_image\\configuration_utils.py:108\u001b[39m, in \u001b[36mPretrainedConfig.get_config_dict\u001b[39m\u001b[34m(cls, pretrained_model_name_or_path, **kwargs)\u001b[39m\n\u001b[32m    102\u001b[39m     logger.error(err)\n\u001b[32m    103\u001b[39m     msg = (\n\u001b[32m    104\u001b[39m         \u001b[33mf\u001b[39m\u001b[33m\"\u001b[39m\u001b[33mCan\u001b[39m\u001b[33m'\u001b[39m\u001b[33mt load config for \u001b[39m\u001b[33m'\u001b[39m\u001b[38;5;132;01m{\u001b[39;00mpretrained_model_name_or_path\u001b[38;5;132;01m}\u001b[39;00m\u001b[33m'\u001b[39m\u001b[33m. Make sure that:\u001b[39m\u001b[38;5;130;01m\\n\u001b[39;00m\u001b[38;5;130;01m\\n\u001b[39;00m\u001b[33m\"\u001b[39m\n\u001b[32m    105\u001b[39m         \u001b[33mf\u001b[39m\u001b[33m\"\u001b[39m\u001b[33m- \u001b[39m\u001b[33m'\u001b[39m\u001b[38;5;132;01m{\u001b[39;00mpretrained_model_name_or_path\u001b[38;5;132;01m}\u001b[39;00m\u001b[33m'\u001b[39m\u001b[33m is a correct model identifier \u001b[39m\u001b[38;5;130;01m\\n\u001b[39;00m\u001b[38;5;130;01m\\n\u001b[39;00m\u001b[33m\"\u001b[39m\n\u001b[32m    106\u001b[39m         \u001b[33mf\u001b[39m\u001b[33m\"\u001b[39m\u001b[33m- or \u001b[39m\u001b[33m'\u001b[39m\u001b[38;5;132;01m{\u001b[39;00mpretrained_model_name_or_path\u001b[38;5;132;01m}\u001b[39;00m\u001b[33m'\u001b[39m\u001b[33m is the correct path to a directory containing a \u001b[39m\u001b[38;5;132;01m{\u001b[39;00mCONFIG_NAME\u001b[38;5;132;01m}\u001b[39;00m\u001b[33m file\u001b[39m\u001b[38;5;130;01m\\n\u001b[39;00m\u001b[38;5;130;01m\\n\u001b[39;00m\u001b[33m\"\u001b[39m\n\u001b[32m    107\u001b[39m     )\n\u001b[32m--> \u001b[39m\u001b[32m108\u001b[39m     \u001b[38;5;28;01mraise\u001b[39;00m \u001b[38;5;167;01mEnvironmentError\u001b[39;00m(msg)\n\u001b[32m    110\u001b[39m \u001b[38;5;28;01mexcept\u001b[39;00m json.JSONDecodeError:\n\u001b[32m    111\u001b[39m     msg = (\n\u001b[32m    112\u001b[39m         \u001b[33mf\u001b[39m\u001b[33m\"\u001b[39m\u001b[33mCouldn\u001b[39m\u001b[33m'\u001b[39m\u001b[33mt reach server at \u001b[39m\u001b[33m'\u001b[39m\u001b[38;5;132;01m{\u001b[39;00mconfig_file\u001b[38;5;132;01m}\u001b[39;00m\u001b[33m'\u001b[39m\u001b[33m to download configuration file or \u001b[39m\u001b[33m\"\u001b[39m\n\u001b[32m    113\u001b[39m         \u001b[33m\"\u001b[39m\u001b[33mconfiguration file is not a valid JSON file. \u001b[39m\u001b[33m\"\u001b[39m\n\u001b[32m    114\u001b[39m         \u001b[33mf\u001b[39m\u001b[33m\"\u001b[39m\u001b[33mPlease check network or file content here: \u001b[39m\u001b[38;5;132;01m{\u001b[39;00mresolved_config_file\u001b[38;5;132;01m}\u001b[39;00m\u001b[33m.\u001b[39m\u001b[33m\"\u001b[39m\n\u001b[32m    115\u001b[39m     )\n",
      "\u001b[31mOSError\u001b[39m: Can't load config for 'eugenesiow/edsr-base'. Make sure that:\n\n- 'eugenesiow/edsr-base' is a correct model identifier \n\n- or 'eugenesiow/edsr-base' is the correct path to a directory containing a config.json file\n\n"
     ]
    }
   ],
   "source": [
    "from PIL import Image\n",
    "from super_image import EdsrModel, ImageLoader\n",
    "\n",
    "model = EdsrModel.from_pretrained('eugenesiow/edsr-base', scale=2)\n",
    "img = Image.open('file-0.jpg')\n",
    "sr_img = model.predict(img)\n",
    "sr_img.save('upscaled.jpg')\n"
   ]
  }
 ],
 "metadata": {
  "kernelspec": {
   "display_name": ".venv",
   "language": "python",
   "name": "python3"
  },
  "language_info": {
   "codemirror_mode": {
    "name": "ipython",
    "version": 3
   },
   "file_extension": ".py",
   "mimetype": "text/x-python",
   "name": "python",
   "nbconvert_exporter": "python",
   "pygments_lexer": "ipython3",
   "version": "3.12.5"
  }
 },
 "nbformat": 4,
 "nbformat_minor": 2
}
