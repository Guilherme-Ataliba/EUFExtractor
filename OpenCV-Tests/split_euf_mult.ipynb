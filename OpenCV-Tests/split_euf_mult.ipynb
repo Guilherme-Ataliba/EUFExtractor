{
 "cells": [
  {
   "cell_type": "code",
   "execution_count": 5,
   "metadata": {},
   "outputs": [],
   "source": [
    "import cv2 as cv\n",
    "import numpy as np"
   ]
  },
  {
   "cell_type": "markdown",
   "metadata": {},
   "source": [
    "# Question Extraction"
   ]
  },
  {
   "cell_type": "code",
   "execution_count": 6,
   "metadata": {},
   "outputs": [],
   "source": [
    "def searchImg(haystack_img, needle_img, threshold):\n",
    "    result = cv.matchTemplate(haystack_img, needle_img, cv.TM_CCOEFF_NORMED)\n",
    "\n",
    "    threshold = 0.7\n",
    "    locations = np.array(np.where(result >= threshold))\n",
    "\n",
    "    # Filtering for when it gets the same square multiple times\n",
    "    height = needle_img.shape[0]\n",
    "    diffs = np.diff(locations[0])\n",
    "    indices = np.where(diffs > height)[0]\n",
    "    selected_indices = np.concatenate(([0], indices+1))\n",
    "    locations = locations[:, selected_indices]\n",
    "\n",
    "    locations = list(zip(*locations[::-1]))\n",
    "\n",
    "    return locations\n",
    "\n",
    "def trimWhitespace(image, output_path=\"trimmed_output.jpg\"):\n",
    "\n",
    "    # Convert to grayscale\n",
    "    gray = cv.cvtColor(image, cv.COLOR_BGR2GRAY)\n",
    "\n",
    "    # Apply a binary threshold to detect non-white regions\n",
    "    _, thresh = cv.threshold(gray, 240, 255, cv.THRESH_BINARY_INV)\n",
    "\n",
    "    # Find contours of the non-white regions\n",
    "    contours, _ = cv.findContours(thresh, cv.RETR_EXTERNAL, cv.CHAIN_APPROX_SIMPLE)\n",
    "\n",
    "    if contours:\n",
    "        # Get bounding box of the largest contour\n",
    "        x, y, w, h = cv.boundingRect(np.concatenate(contours))\n",
    "\n",
    "        # Crop the image using the bounding box\n",
    "        cropped = image[y:y+h, x:x+w]\n",
    "\n",
    "        # Save or return the cropped image\n",
    "        cv.imwrite(output_path, cropped)\n",
    "        return cropped\n",
    "\n",
    "def extractRegions(regions, haystack_img, needle_width, needle_height):\n",
    "    haystack_width = haystack_img.shape[1]\n",
    "    haystack_height = haystack_img.shape[0]\n",
    "    \n",
    "    extracted_regions = []\n",
    "\n",
    "    c = 0\n",
    "    for reg_start, reg_end in regions:\n",
    "        top_left = (reg_start[0] + int(1.1*needle_width), reg_start[1] - 4*needle_height//5)\n",
    "        bottom_right = (reg_start[0] + 3*haystack_width//4, reg_end[1] - needle_height//2)\n",
    "\n",
    "        # Extract the region of interest (ROI) from the original image\n",
    "        region_ = trimWhitespace(haystack_img[top_left[1]:bottom_right[1], top_left[0]:bottom_right[0]])\n",
    "        \n",
    "        extracted_regions.append(region_)\n",
    "        \n",
    "    return extracted_regions\n",
    "\n",
    "def getWhiteIntervals(img):\n",
    "    # Convert to grayscale\n",
    "    img = cv.cvtColor(img, cv.COLOR_BGR2GRAY)\n",
    "\n",
    "    # Apply a binary threshold to detect non-white regions\n",
    "    _, img_thr = cv.threshold(img, 240, 255, cv.THRESH_BINARY_INV)\n",
    "\n",
    "    intervals = []\n",
    "\n",
    "    start = None\n",
    "    end = None\n",
    "\n",
    "    for c, line in enumerate(img_thr):\n",
    "\n",
    "        if start is None:\n",
    "            if np.sum(line) == 0:\n",
    "                    start = c\n",
    "        elif end is None:\n",
    "            if np.sum(line) != 0:\n",
    "                end = c-1\n",
    "                intervals.append([start, end])\n",
    "                start = None\n",
    "                end = None\n",
    "\n",
    "    return intervals\n",
    "\n",
    "def splitLines(img):\n",
    "    needle_height = img.shape[0]\n",
    "    needle_width = img.shape[1]\n",
    "    \n",
    "    intervals = getWhiteIntervals(img)\n",
    "    intervals.insert(0, [-1, 0])\n",
    "    intervals.append([needle_height, -1])\n",
    "\n",
    "    quest_intervals = [[intervals[inter][1], intervals[inter+1][0]] for inter in range(len(intervals)-1)]\n",
    "\n",
    "    splitted_img = []\n",
    "\n",
    "    for inter in quest_intervals:\n",
    "        img_ = img[inter[0]:inter[1], 0:needle_width]\n",
    "        img_ = trimWhitespace(img_)\n",
    "        splitted_img.append(img_)\n",
    "\n",
    "    return splitted_img"
   ]
  },
  {
   "cell_type": "code",
   "execution_count": 136,
   "metadata": {},
   "outputs": [],
   "source": [
    "haystack_img = cv.imread(\"data/splitted_pages-jpg/output-005.jpg\", cv.IMREAD_COLOR)\n",
    "haystack_width = haystack_img.shape[1]\n",
    "haystack_height = haystack_img.shape[0]\n",
    "\n",
    "needle_img = cv.imread(\"data/Black_square.jpg\", cv.IMREAD_COLOR)\n",
    "needle_height = needle_img.shape[0]\n",
    "needle_width = needle_img.shape[1]\n",
    "\n",
    "questao_img = cv.imread(\"data/Questao.jpg\", cv.IMREAD_UNCHANGED)\n",
    "questao_img = cv.cvtColor(questao_img, cv.COLOR_BGRA2BGR)\n",
    "\n",
    "locations_black_square = np.array(searchImg(haystack_img, needle_img, 0.7))\n",
    "locations_questao = np.array(searchImg(haystack_img, questao_img, 0.7))\n",
    "\n",
    "locations = locations_black_square + locations_questao"
   ]
  },
  {
   "cell_type": "code",
   "execution_count": 137,
   "metadata": {},
   "outputs": [
    {
     "data": {
      "text/plain": [
       "[[array([388, 693]), array([ 355, 1084])],\n",
       " [array([ 388, 1436]), array([ 355, 1827])],\n",
       " [array([ 388, 2600]), array([2480, 3508])]]"
      ]
     },
     "execution_count": 137,
     "metadata": {},
     "output_type": "execute_result"
    }
   ],
   "source": [
    "regions = []\n",
    "\n",
    "for loc_square in locations_black_square:\n",
    "    for loc_quest in locations_questao:\n",
    "        if loc_quest[1] > loc_square[1]:\n",
    "            regions.append([loc_square, loc_quest])\n",
    "            break\n",
    "\n",
    "# Adding from the last question to the end of the page\n",
    "regions.append([locations_black_square[-1], np.array([haystack_width, haystack_height])])\n",
    "\n",
    "regions"
   ]
  },
  {
   "cell_type": "code",
   "execution_count": 138,
   "metadata": {},
   "outputs": [],
   "source": [
    "regions_extracted = extractRegions(regions, haystack_img, needle_width, needle_height)"
   ]
  },
  {
   "cell_type": "code",
   "execution_count": 139,
   "metadata": {},
   "outputs": [
    {
     "data": {
      "text/plain": [
       "True"
      ]
     },
     "execution_count": 139,
     "metadata": {},
     "output_type": "execute_result"
    }
   ],
   "source": [
    "cv.imwrite(\"test.jpg\", haystack_img[regions[0][0][1]:regions[0][1][1], regions[0][0][0]:haystack_width])"
   ]
  },
  {
   "cell_type": "code",
   "execution_count": 140,
   "metadata": {},
   "outputs": [],
   "source": [
    "quest_items = []\n",
    "for region in regions_extracted:\n",
    "    quest_items.append(splitLines(region))"
   ]
  },
  {
   "cell_type": "code",
   "execution_count": 141,
   "metadata": {},
   "outputs": [],
   "source": [
    "new_haystack = haystack_img.copy()"
   ]
  },
  {
   "cell_type": "code",
   "execution_count": 148,
   "metadata": {},
   "outputs": [
    {
     "data": {
      "text/plain": [
       "True"
      ]
     },
     "execution_count": 148,
     "metadata": {},
     "output_type": "execute_result"
    }
   ],
   "source": [
    "for region, quest in zip(regions, quest_items):\n",
    "    new_haystack[region[0][1]:region[1][1], region[0][0]:haystack_width] = (255, 255, 255)\n",
    "    np.random.shuffle(quest)\n",
    "    for c, quest_ in enumerate(quest):\n",
    "        w = quest_.shape[1]\n",
    "        h = quest_.shape[0]\n",
    "        pad = 10\n",
    "\n",
    "        new_haystack[region[0][1]+(c*h):region[0][1]+(h+c*h), region[0][0]:region[0][0]+w] = quest_\n",
    "cv.imwrite(\"test.jpg\", new_haystack)"
   ]
  },
  {
   "cell_type": "code",
   "execution_count": null,
   "metadata": {},
   "outputs": [],
   "source": [
    "mask = np.ones_like(quest_) * 255  # White mask for transparency\n",
    "cv.copyTo(quest_, mask, haystack_img[region[0][1]:region[0][1]+h, region[0][0]:region[0][0]+w])\n"
   ]
  }
 ],
 "metadata": {
  "kernelspec": {
   "display_name": ".venv",
   "language": "python",
   "name": "python3"
  },
  "language_info": {
   "codemirror_mode": {
    "name": "ipython",
    "version": 3
   },
   "file_extension": ".py",
   "mimetype": "text/x-python",
   "name": "python",
   "nbconvert_exporter": "python",
   "pygments_lexer": "ipython3",
   "version": "3.12.5"
  }
 },
 "nbformat": 4,
 "nbformat_minor": 2
}
