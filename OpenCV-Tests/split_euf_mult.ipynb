{
 "cells": [
  {
   "cell_type": "code",
   "execution_count": 2,
   "metadata": {},
   "outputs": [],
   "source": [
    "import cv2 as cv\n",
    "import numpy as np"
   ]
  },
  {
   "cell_type": "markdown",
   "metadata": {},
   "source": [
    "# Question Extraction"
   ]
  },
  {
   "cell_type": "code",
   "execution_count": 59,
   "metadata": {},
   "outputs": [],
   "source": [
    "def searchImg(haystack_img, needle_img, threshold):\n",
    "    result = cv.matchTemplate(haystack_img, needle_img, cv.TM_CCOEFF_NORMED)\n",
    "\n",
    "    threshold = 0.7\n",
    "    locations = np.array(np.where(result >= threshold))\n",
    "\n",
    "    # Filtering for when it gets the same square multiple times\n",
    "    height = needle_img.shape[0]\n",
    "    diffs = np.diff(locations[0])\n",
    "    indices = np.where(diffs > height)[0]\n",
    "    selected_indices = np.concatenate(([0], indices+1))\n",
    "    locations = locations[:, selected_indices]\n",
    "\n",
    "    locations = list(zip(*locations[::-1]))\n",
    "\n",
    "    return locations\n",
    "\n",
    "def trimWhitespace(image, output_path=\"trimmed_output.jpg\"):\n",
    "\n",
    "    # Convert to grayscale\n",
    "    gray = cv.cvtColor(image, cv.COLOR_BGR2GRAY)\n",
    "\n",
    "    # Apply a binary threshold to detect non-white regions\n",
    "    _, thresh = cv.threshold(gray, 240, 255, cv.THRESH_BINARY_INV)\n",
    "\n",
    "    # Find contours of the non-white regions\n",
    "    contours, _ = cv.findContours(thresh, cv.RETR_EXTERNAL, cv.CHAIN_APPROX_SIMPLE)\n",
    "\n",
    "    if contours:\n",
    "        # Get bounding box of the largest contour\n",
    "        x, y, w, h = cv.boundingRect(np.concatenate(contours))\n",
    "\n",
    "        # Crop the image using the bounding box\n",
    "        cropped = image[y:y+h, x:x+w]\n",
    "\n",
    "        # Save or return the cropped image\n",
    "        cv.imwrite(output_path, cropped)\n",
    "        return cropped\n",
    "\n",
    "def extractRegions(regions, haystack_img, needle_width, needle_height):\n",
    "    haystack_width = haystack_img.shape[1]\n",
    "    haystack_height = haystack_img.shape[0]\n",
    "    \n",
    "    c = 0\n",
    "    for reg_start, reg_end in regions:\n",
    "        top_left = (reg_start[0] + int(1.1*needle_width), reg_start[1] - 4*needle_height//5)\n",
    "        bottom_right = (reg_start[0] + 3*haystack_width//4, reg_end[1] - needle_height//2)\n",
    "\n",
    "        # cv.rectangle(haystack_img, top_left, bottom_right, line_color, line_type)\n",
    "\n",
    "        # Extract the region of interest (ROI) from the original image\n",
    "        roi = trimWhitespace(haystack_img[top_left[1]:bottom_right[1], top_left[0]:bottom_right[0]])\n",
    "        # Save the extracted rectangle as a new image\n",
    "        output_roi_path = f\"output/extracted_question-{c}.jpg\"  # Change the path as needed\n",
    "        cv.imwrite(output_roi_path, roi)\n",
    "        c += 1\n",
    "        \n",
    "    output_path = \"output/matched_result.jpg\"  # Change the path as needed\n",
    "    cv.imwrite(output_path, haystack_img)"
   ]
  },
  {
   "cell_type": "code",
   "execution_count": 60,
   "metadata": {},
   "outputs": [],
   "source": [
    "haystack_img = cv.imread(\"data/splitted_pages-jpg/output-001.jpg\", cv.IMREAD_COLOR)\n",
    "haystack_width = haystack_img.shape[1]\n",
    "haystack_height = haystack_img.shape[0]\n",
    "\n",
    "needle_img = cv.imread(\"data/Black_square.jpg\", cv.IMREAD_COLOR)\n",
    "needle_height = needle_img.shape[0]\n",
    "needle_width = needle_img.shape[1]\n",
    "\n",
    "questao_img = cv.imread(\"data/Questao.jpg\", cv.IMREAD_UNCHANGED)\n",
    "questao_img = cv.cvtColor(questao_img, cv.COLOR_BGRA2BGR)\n",
    "\n",
    "locations_black_square = np.array(searchImg(haystack_img, needle_img, 0.7))\n",
    "locations_questao = np.array(searchImg(haystack_img, questao_img, 0.7))\n",
    "\n",
    "locations = locations_black_square + locations_questao"
   ]
  },
  {
   "cell_type": "code",
   "execution_count": 61,
   "metadata": {},
   "outputs": [
    {
     "data": {
      "text/plain": [
       "[[array([388, 938]), array([ 355, 1349])],\n",
       " [array([ 388, 1630]), array([ 355, 2041])],\n",
       " [array([ 388, 2637]), array([2480, 3508])]]"
      ]
     },
     "execution_count": 61,
     "metadata": {},
     "output_type": "execute_result"
    }
   ],
   "source": [
    "regions = []\n",
    "\n",
    "for loc_square in locations_black_square:\n",
    "    for loc_quest in locations_questao:\n",
    "        if loc_quest[1] > loc_square[1]:\n",
    "            regions.append([loc_square, loc_quest])\n",
    "            break\n",
    "\n",
    "# Adding from the last question to the end of the page\n",
    "regions.append([locations_black_square[-1], np.array([haystack_width, haystack_height])])\n",
    "\n",
    "regions"
   ]
  },
  {
   "cell_type": "code",
   "execution_count": 62,
   "metadata": {},
   "outputs": [],
   "source": [
    "extractRegions(regions, haystack_img, needle_width, needle_height)"
   ]
  },
  {
   "cell_type": "code",
   "execution_count": null,
   "metadata": {},
   "outputs": [],
   "source": []
  }
 ],
 "metadata": {
  "kernelspec": {
   "display_name": ".venv",
   "language": "python",
   "name": "python3"
  },
  "language_info": {
   "codemirror_mode": {
    "name": "ipython",
    "version": 3
   },
   "file_extension": ".py",
   "mimetype": "text/x-python",
   "name": "python",
   "nbconvert_exporter": "python",
   "pygments_lexer": "ipython3",
   "version": "3.12.5"
  }
 },
 "nbformat": 4,
 "nbformat_minor": 2
}
